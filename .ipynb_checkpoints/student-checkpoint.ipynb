{
 "cells": [
  {
   "cell_type": "markdown",
   "metadata": {},
   "source": [
    "# PCA AND CLUSTERING TECHNIQUES IN PYTHON"
   ]
  },
  {
   "cell_type": "markdown",
   "metadata": {},
   "source": [
    "![image](./images/3Dto2D.jpg)"
   ]
  },
  {
   "cell_type": "markdown",
   "metadata": {},
   "source": [
    "The essence of PCA is to find the directions of maximum variance in high dimensional data, and project it into\n",
    "a smaller dimensional space while still retaining most of the information."
   ]
  },
  {
   "cell_type": "markdown",
   "metadata": {},
   "source": [
    "<u>STEPS TO IMPLEMENT</u>\n",
    "\n",
    "* Standardize the data\n",
    "* Center the data; subtract from mean.\n",
    "* Calculate covariance matrix and eigenvectors.\n",
    "* Project the Principal Components in the direction of the eigenvectors"
   ]
  },
  {
   "cell_type": "markdown",
   "metadata": {},
   "source": [
    "![](./images/pcaSteps.jpeg)"
   ]
  },
  {
   "cell_type": "markdown",
   "metadata": {},
   "source": [
    "## PART I: Principal Component Analysis"
   ]
  },
  {
   "cell_type": "markdown",
   "metadata": {},
   "source": [
    "### CODE IMPLEMENTATION"
   ]
  },
  {
   "cell_type": "code",
   "execution_count": 2,
   "metadata": {},
   "outputs": [],
   "source": [
    "# Import the relevant libraries to use here\n"
   ]
  },
  {
   "cell_type": "markdown",
   "metadata": {},
   "source": [
    "Seaborn comes with a number of built-in datasets.\n",
    "To get a list of all the ones that are prepackaged, use the `get_dataset_names` method."
   ]
  },
  {
   "cell_type": "code",
   "execution_count": null,
   "metadata": {},
   "outputs": [],
   "source": [
    "print(\"The available datasets in Seaborn are:\", end=\"\\n\")\n",
    "print(\"*\"*30, end=\"\\n\")\n",
    "for data in sns.get_dataset_names():\n",
    "    print(data)\n",
    "    \n",
    "print(\"*\"*30)"
   ]
  },
  {
   "cell_type": "markdown",
   "metadata": {},
   "source": [
    "> For ease of simplicity when it comes to visualization, the mpg/mtcars dataset shall be used to demonstrate PCA.\n",
    "\n",
    "We'd also like to see how the various attributes contribute to the principal components"
   ]
  },
  {
   "cell_type": "code",
   "execution_count": 4,
   "metadata": {},
   "outputs": [
    {
     "data": {
      "text/html": [
       "<div>\n",
       "<style scoped>\n",
       "    .dataframe tbody tr th:only-of-type {\n",
       "        vertical-align: middle;\n",
       "    }\n",
       "\n",
       "    .dataframe tbody tr th {\n",
       "        vertical-align: top;\n",
       "    }\n",
       "\n",
       "    .dataframe thead th {\n",
       "        text-align: right;\n",
       "    }\n",
       "</style>\n",
       "<table border=\"1\" class=\"dataframe\">\n",
       "  <thead>\n",
       "    <tr style=\"text-align: right;\">\n",
       "      <th></th>\n",
       "      <th>mpg</th>\n",
       "      <th>cylinders</th>\n",
       "      <th>displacement</th>\n",
       "      <th>horsepower</th>\n",
       "      <th>weight</th>\n",
       "      <th>acceleration</th>\n",
       "      <th>model_year</th>\n",
       "      <th>origin</th>\n",
       "      <th>name</th>\n",
       "    </tr>\n",
       "  </thead>\n",
       "  <tbody>\n",
       "    <tr>\n",
       "      <th>0</th>\n",
       "      <td>18.0</td>\n",
       "      <td>8</td>\n",
       "      <td>307.0</td>\n",
       "      <td>130.0</td>\n",
       "      <td>3504</td>\n",
       "      <td>12.0</td>\n",
       "      <td>70</td>\n",
       "      <td>usa</td>\n",
       "      <td>chevrolet chevelle malibu</td>\n",
       "    </tr>\n",
       "    <tr>\n",
       "      <th>1</th>\n",
       "      <td>15.0</td>\n",
       "      <td>8</td>\n",
       "      <td>350.0</td>\n",
       "      <td>165.0</td>\n",
       "      <td>3693</td>\n",
       "      <td>11.5</td>\n",
       "      <td>70</td>\n",
       "      <td>usa</td>\n",
       "      <td>buick skylark 320</td>\n",
       "    </tr>\n",
       "    <tr>\n",
       "      <th>2</th>\n",
       "      <td>18.0</td>\n",
       "      <td>8</td>\n",
       "      <td>318.0</td>\n",
       "      <td>150.0</td>\n",
       "      <td>3436</td>\n",
       "      <td>11.0</td>\n",
       "      <td>70</td>\n",
       "      <td>usa</td>\n",
       "      <td>plymouth satellite</td>\n",
       "    </tr>\n",
       "    <tr>\n",
       "      <th>3</th>\n",
       "      <td>16.0</td>\n",
       "      <td>8</td>\n",
       "      <td>304.0</td>\n",
       "      <td>150.0</td>\n",
       "      <td>3433</td>\n",
       "      <td>12.0</td>\n",
       "      <td>70</td>\n",
       "      <td>usa</td>\n",
       "      <td>amc rebel sst</td>\n",
       "    </tr>\n",
       "    <tr>\n",
       "      <th>4</th>\n",
       "      <td>17.0</td>\n",
       "      <td>8</td>\n",
       "      <td>302.0</td>\n",
       "      <td>140.0</td>\n",
       "      <td>3449</td>\n",
       "      <td>10.5</td>\n",
       "      <td>70</td>\n",
       "      <td>usa</td>\n",
       "      <td>ford torino</td>\n",
       "    </tr>\n",
       "  </tbody>\n",
       "</table>\n",
       "</div>"
      ],
      "text/plain": [
       "    mpg  cylinders  displacement  horsepower  weight  acceleration  \\\n",
       "0  18.0          8         307.0       130.0    3504          12.0   \n",
       "1  15.0          8         350.0       165.0    3693          11.5   \n",
       "2  18.0          8         318.0       150.0    3436          11.0   \n",
       "3  16.0          8         304.0       150.0    3433          12.0   \n",
       "4  17.0          8         302.0       140.0    3449          10.5   \n",
       "\n",
       "   model_year origin                       name  \n",
       "0          70    usa  chevrolet chevelle malibu  \n",
       "1          70    usa          buick skylark 320  \n",
       "2          70    usa         plymouth satellite  \n",
       "3          70    usa              amc rebel sst  \n",
       "4          70    usa                ford torino  "
      ]
     },
     "execution_count": 4,
     "metadata": {},
     "output_type": "execute_result"
    }
   ],
   "source": [
    "# Create the mpg dataset using the seaborn library\n"
   ]
  },
  {
   "cell_type": "code",
   "execution_count": null,
   "metadata": {},
   "outputs": [],
   "source": [
    "# Get the basic information of the dataset\n",
    "\n"
   ]
  },
  {
   "cell_type": "markdown",
   "metadata": {},
   "source": [
    "Let's do a little bit of exploration to understand what this dataset has."
   ]
  },
  {
   "cell_type": "code",
   "execution_count": null,
   "metadata": {},
   "outputs": [],
   "source": [
    "# How many regions does the dataset encompass?\n",
    "# Visualize this\n"
   ]
  },
  {
   "cell_type": "markdown",
   "metadata": {},
   "source": [
    "> I think you'd all benefit from understanding how to add bar labels so please use [this](https://stackoverflow.com/questions/28931224/how-to-add-value-labels-on-a-bar-chart#:~:text=As%20of%20matplotlib,in%20the%20list) for your reference."
   ]
  },
  {
   "cell_type": "code",
   "execution_count": null,
   "metadata": {},
   "outputs": [],
   "source": [
    "# Any remarkable stats for vehicles manufactured in each region?\n",
    "# Run a group by on the origin\n",
    "\n"
   ]
  },
  {
   "cell_type": "markdown",
   "metadata": {},
   "source": [
    "Deductions?"
   ]
  },
  {
   "cell_type": "code",
   "execution_count": 8,
   "metadata": {},
   "outputs": [],
   "source": [
    "# Uncomment and run this to see all the fonts Matplotlib Offers\n",
    "\n",
    "# import matplotlib.font_manager\n",
    "# from IPython.core.display import HTML\n",
    "\n",
    "# def make_html(fontname):\n",
    "#     return \"<p>{font}: <span style='font-family:{font}; font-size: 24px;'>{font}</p>\".format(font=fontname)\n",
    "\n",
    "# code = \"\\n\".join([make_html(font) for font in sorted(set([f.name for f in matplotlib.font_manager.fontManager.ttflist]))])\n",
    "\n",
    "# HTML(\"<div style='column-count: 2;'>{}</div>\".format(code))"
   ]
  },
  {
   "cell_type": "code",
   "execution_count": null,
   "metadata": {},
   "outputs": [],
   "source": [
    "# Run without changes\n",
    "\n",
    "fig, ax = plt.subplots(figsize=(9,6))\n",
    "ax = sns.scatterplot(data=mpg, y='horsepower', x='weight',\n",
    "                hue='origin')\n",
    "ax.set_title('Horsepower vs Weight of Cars of Different Origins', fontweight='bold',\n",
    "             fontsize=15, family='MV Boli')\n",
    "ax.legend(loc='upper right', bbox_to_anchor=(1.2, 0.5));"
   ]
  },
  {
   "cell_type": "markdown",
   "metadata": {},
   "source": [
    "> Interpretation?"
   ]
  },
  {
   "cell_type": "code",
   "execution_count": null,
   "metadata": {},
   "outputs": [],
   "source": [
    "# Run without changes\n",
    "# Acceleration vs Cylinders\n",
    "\n",
    "fig, ax = plt.subplots(figsize=(12,6))\n",
    "ax = sns.scatterplot(data=mpg, y='acceleration', x='mpg',\n",
    "                hue='origin', marker='o', sizes=25)\n",
    "ax.set_title('Acceleration vs Number of Cylinders of Cars of Different Origins',\n",
    "             family='MV Boli', size=15)\n",
    "ax.legend(loc='upper right', bbox_to_anchor=(1.2, 0.5));"
   ]
  },
  {
   "cell_type": "markdown",
   "metadata": {},
   "source": [
    "With this basic visual exploration, is it possible to have identified some common factors within the data?"
   ]
  },
  {
   "cell_type": "markdown",
   "metadata": {},
   "source": [
    "For this particular dataset, we may not have a problem with the number of features. However, I think it's a great dataset to use for these unsupervised\n",
    "techniques since we can introduce row labels, and also intuitively identify patterns."
   ]
  },
  {
   "cell_type": "code",
   "execution_count": null,
   "metadata": {},
   "outputs": [],
   "source": [
    "# Check for Null Values in the mpg dataset\n",
    "\n"
   ]
  },
  {
   "cell_type": "code",
   "execution_count": null,
   "metadata": {},
   "outputs": [],
   "source": [
    "# Display the rows with null values in the horsepower column\n"
   ]
  },
  {
   "cell_type": "markdown",
   "metadata": {},
   "source": [
    "> A clever way to deal with them without affecting the data too drastically would be to impute them with regional means, i.e, \n",
    "usaHorsepowerMean and europeanHorsepowerMean."
   ]
  },
  {
   "cell_type": "markdown",
   "metadata": {},
   "source": [
    "`Mark Note`:\n",
    "\n",
    "After running the exercise using the full dataset with 392 samples, the visual output were a mess. Instead, there is a smaller version of\n",
    "the dataset included to ensure we achieve the learning goals of today's work"
   ]
  },
  {
   "cell_type": "code",
   "execution_count": null,
   "metadata": {},
   "outputs": [],
   "source": [
    "# Using a smaller version of the dataset\n",
    "# Load the mtcars csv file provided and set the index \n",
    "# to be the car model\n",
    "\n"
   ]
  },
  {
   "cell_type": "code",
   "execution_count": null,
   "metadata": {},
   "outputs": [],
   "source": [
    "# Get the information of the dataset using appropriate methods\n"
   ]
  },
  {
   "cell_type": "code",
   "execution_count": 15,
   "metadata": {},
   "outputs": [],
   "source": [
    "# Standardize the mtcars dataset using only relevant columns\n"
   ]
  },
  {
   "cell_type": "code",
   "execution_count": 16,
   "metadata": {},
   "outputs": [],
   "source": [
    "# Create Principal Components from the features\n"
   ]
  },
  {
   "cell_type": "code",
   "execution_count": null,
   "metadata": {},
   "outputs": [],
   "source": [
    "# Run without changes\n",
    "# Print out a few attributes of the pca object\n",
    "cumulativeVariance = np.cumsum(pca.explained_variance_ratio_)\n",
    "\n",
    "print(\"The number of components produced is {}\".format(pca.n_components_),\n",
    "      end=\"\\n\" + \"*\"*30 + \"\\n\")\n",
    "print(\"The variance explained is as follows: \\n\\n{}\".format(['{:.2%}'.format(x) for x in cumulativeVariance]),\n",
    "      end=\"\\n\" + \"*\"*30 + \"\\n\")"
   ]
  },
  {
   "cell_type": "markdown",
   "metadata": {},
   "source": [
    "From the above, it is clear even half of the principal components would be needed for any model.\n",
    "However, it would be interesting to see which variables would be contributing to the first two\n",
    "principal components"
   ]
  },
  {
   "cell_type": "code",
   "execution_count": 18,
   "metadata": {},
   "outputs": [
    {
     "data": {
      "text/html": [
       "<div>\n",
       "<style scoped>\n",
       "    .dataframe tbody tr th:only-of-type {\n",
       "        vertical-align: middle;\n",
       "    }\n",
       "\n",
       "    .dataframe tbody tr th {\n",
       "        vertical-align: top;\n",
       "    }\n",
       "\n",
       "    .dataframe thead th {\n",
       "        text-align: right;\n",
       "    }\n",
       "</style>\n",
       "<table border=\"1\" class=\"dataframe\">\n",
       "  <thead>\n",
       "    <tr style=\"text-align: right;\">\n",
       "      <th></th>\n",
       "      <th>PC1</th>\n",
       "      <th>PC2</th>\n",
       "    </tr>\n",
       "    <tr>\n",
       "      <th>model</th>\n",
       "      <th></th>\n",
       "      <th></th>\n",
       "    </tr>\n",
       "  </thead>\n",
       "  <tbody>\n",
       "    <tr>\n",
       "      <th>Mazda RX4</th>\n",
       "      <td>-79.596425</td>\n",
       "      <td>-2.132241</td>\n",
       "    </tr>\n",
       "    <tr>\n",
       "      <th>Mazda RX4 Wag</th>\n",
       "      <td>-79.598570</td>\n",
       "      <td>-2.147487</td>\n",
       "    </tr>\n",
       "    <tr>\n",
       "      <th>Datsun 710</th>\n",
       "      <td>-133.894096</td>\n",
       "      <td>5.057570</td>\n",
       "    </tr>\n",
       "    <tr>\n",
       "      <th>Hornet 4 Drive</th>\n",
       "      <td>8.516559</td>\n",
       "      <td>-44.985630</td>\n",
       "    </tr>\n",
       "    <tr>\n",
       "      <th>Hornet Sportabout</th>\n",
       "      <td>128.686342</td>\n",
       "      <td>-30.817402</td>\n",
       "    </tr>\n",
       "  </tbody>\n",
       "</table>\n",
       "</div>"
      ],
      "text/plain": [
       "                          PC1        PC2\n",
       "model                                   \n",
       "Mazda RX4          -79.596425  -2.132241\n",
       "Mazda RX4 Wag      -79.598570  -2.147487\n",
       "Datsun 710        -133.894096   5.057570\n",
       "Hornet 4 Drive       8.516559 -44.985630\n",
       "Hornet Sportabout  128.686342 -30.817402"
      ]
     },
     "execution_count": 18,
     "metadata": {},
     "output_type": "execute_result"
    }
   ],
   "source": [
    "# Run without changes\n",
    "\n",
    "pcScores = pd.DataFrame(pca.fit_transform(X)[:, 0:2],\n",
    "                        columns = ['PC1', 'PC2'], index=mtcars.index)\n",
    "\n",
    "pcScores.head()"
   ]
  },
  {
   "cell_type": "code",
   "execution_count": 19,
   "metadata": {},
   "outputs": [
    {
     "data": {
      "text/html": [
       "<div>\n",
       "<style scoped>\n",
       "    .dataframe tbody tr th:only-of-type {\n",
       "        vertical-align: middle;\n",
       "    }\n",
       "\n",
       "    .dataframe tbody tr th {\n",
       "        vertical-align: top;\n",
       "    }\n",
       "\n",
       "    .dataframe thead th {\n",
       "        text-align: right;\n",
       "    }\n",
       "</style>\n",
       "<table border=\"1\" class=\"dataframe\">\n",
       "  <thead>\n",
       "    <tr style=\"text-align: right;\">\n",
       "      <th></th>\n",
       "      <th>PC1</th>\n",
       "      <th>PC2</th>\n",
       "    </tr>\n",
       "  </thead>\n",
       "  <tbody>\n",
       "    <tr>\n",
       "      <th>mpg</th>\n",
       "      <td>-0.038118</td>\n",
       "      <td>-0.009185</td>\n",
       "    </tr>\n",
       "    <tr>\n",
       "      <th>cyl</th>\n",
       "      <td>0.012035</td>\n",
       "      <td>0.003372</td>\n",
       "    </tr>\n",
       "    <tr>\n",
       "      <th>disp</th>\n",
       "      <td>0.899568</td>\n",
       "      <td>-0.435372</td>\n",
       "    </tr>\n",
       "    <tr>\n",
       "      <th>hp</th>\n",
       "      <td>0.434784</td>\n",
       "      <td>0.899307</td>\n",
       "    </tr>\n",
       "    <tr>\n",
       "      <th>drat</th>\n",
       "      <td>-0.002660</td>\n",
       "      <td>0.003900</td>\n",
       "    </tr>\n",
       "    <tr>\n",
       "      <th>wt</th>\n",
       "      <td>0.006239</td>\n",
       "      <td>-0.004861</td>\n",
       "    </tr>\n",
       "    <tr>\n",
       "      <th>qsec</th>\n",
       "      <td>-0.006671</td>\n",
       "      <td>-0.025012</td>\n",
       "    </tr>\n",
       "    <tr>\n",
       "      <th>vs</th>\n",
       "      <td>-0.002729</td>\n",
       "      <td>-0.002198</td>\n",
       "    </tr>\n",
       "    <tr>\n",
       "      <th>am</th>\n",
       "      <td>-0.001963</td>\n",
       "      <td>0.005794</td>\n",
       "    </tr>\n",
       "    <tr>\n",
       "      <th>gear</th>\n",
       "      <td>-0.002605</td>\n",
       "      <td>0.011272</td>\n",
       "    </tr>\n",
       "    <tr>\n",
       "      <th>carb</th>\n",
       "      <td>0.005766</td>\n",
       "      <td>0.027779</td>\n",
       "    </tr>\n",
       "  </tbody>\n",
       "</table>\n",
       "</div>"
      ],
      "text/plain": [
       "           PC1       PC2\n",
       "mpg  -0.038118 -0.009185\n",
       "cyl   0.012035  0.003372\n",
       "disp  0.899568 -0.435372\n",
       "hp    0.434784  0.899307\n",
       "drat -0.002660  0.003900\n",
       "wt    0.006239 -0.004861\n",
       "qsec -0.006671 -0.025012\n",
       "vs   -0.002729 -0.002198\n",
       "am   -0.001963  0.005794\n",
       "gear -0.002605  0.011272\n",
       "carb  0.005766  0.027779"
      ]
     },
     "execution_count": 19,
     "metadata": {},
     "output_type": "execute_result"
    }
   ],
   "source": [
    "# Run without changes\n",
    "loadings = pd.DataFrame(pca.components_[:2].T, columns=['PC1', 'PC2'],\n",
    "             index=X.columns)\n",
    "loadings"
   ]
  },
  {
   "cell_type": "code",
   "execution_count": 20,
   "metadata": {},
   "outputs": [],
   "source": [
    "# Run without changes\n",
    "# Data for biplot\n",
    "pc1, pc2 = pca.fit_transform(X)[:, 0], pca.fit_transform(X)[:, 1]\n",
    "ldngs = pca.components_"
   ]
  },
  {
   "cell_type": "markdown",
   "metadata": {},
   "source": [
    "We should also define the scaling factors scalePC1 and scalePC2 to fit the data of `PC1`, `PC2` and ldngs on the same plot. Additionally, we can define the `target group names` to label the target groups in our biplots, see features below."
   ]
  },
  {
   "cell_type": "code",
   "execution_count": 21,
   "metadata": {},
   "outputs": [],
   "source": [
    "# Run without changes\n",
    "\n",
    "scalePC1 = 1.0/(pc1.max() - pc1.min())\n",
    "scalePC2 = 1.0/(pc2.max() - pc2.min())\n",
    "features = list(X.columns)"
   ]
  },
  {
   "cell_type": "code",
   "execution_count": null,
   "metadata": {},
   "outputs": [],
   "source": [
    "# Run without changes\n",
    "\n",
    "colorMap = {'USA': 1, 'Europe': 2, 'Japan': 3}\n",
    "\n",
    "fig, ax = plt.subplots(figsize=(14, 9))\n",
    " \n",
    "for i, feature in enumerate(features):\n",
    "    ax.arrow(0, 0, ldngs[0, i], \n",
    "             ldngs[1, i], \n",
    "             head_width=0.03, \n",
    "             head_length=0.03, \n",
    "             color=\"red\")\n",
    "    ax.text(ldngs[0, i] * 1.15, \n",
    "            ldngs[1, i] * 1.15, \n",
    "            feature,color=\"green\", fontsize=12)\n",
    " \n",
    "    scatter = ax.scatter(pc1 * scalePC1,\n",
    "                    pc2 * scalePC2, s=10,\n",
    "                    c=mtcars['origin'].map(colorMap))\n",
    " \n",
    "for i, label in enumerate(pcScores.index):\n",
    "    ax.text(pc1[i] * scalePC1, \n",
    "            pc2[i] * scalePC2 , str(label), \n",
    "            fontsize=10)\n",
    "\n",
    "ax.legend(*scatter.legend_elements(),\n",
    "                    loc=\"upper right\", \n",
    "                    title=\"Groups\") \n",
    "ax.set_xlabel('PC1', fontsize=20)\n",
    "ax.set_ylabel('PC2', fontsize=20)\n",
    "ax.set_title('Figure 2', fontsize=20);"
   ]
  },
  {
   "cell_type": "markdown",
   "metadata": {},
   "source": [
    "I know this is not the ideal result we needed to see. However, using a different programming language which is much more suited to such a task: R, we can produce ![this](./images/biplot)\n",
    "\n",
    "\n",
    "which is much much easier to interpret. The steps taken are ideally the same as those we took with Python.\n",
    "\n",
    "\n",
    "\n",
    "<i>Perhaps with more tweaking, the Python biplot can be tweaked to be even better.</i>"
   ]
  },
  {
   "cell_type": "markdown",
   "metadata": {},
   "source": [
    "## PART II: CLUSTERING TECHNIQUES"
   ]
  },
  {
   "cell_type": "markdown",
   "metadata": {},
   "source": [
    "### HIERACHICAL CLUSTERING"
   ]
  },
  {
   "cell_type": "code",
   "execution_count": null,
   "metadata": {},
   "outputs": [],
   "source": [
    "# Create a clustering using Complete linkage\n",
    "# Assign it to a variable called completeClustering\n"
   ]
  },
  {
   "cell_type": "code",
   "execution_count": null,
   "metadata": {},
   "outputs": [],
   "source": [
    "# Run without changes\n",
    "\n",
    "fig, ax = plt.subplots(figsize=(12, 9))\n",
    "\n",
    "ax = dendrogram(completeClustering, labels=mtcars.index)\n",
    "plt.title('Hierarchical Clustering Using Complete Linkage')\n",
    "plt.show()"
   ]
  },
  {
   "cell_type": "code",
   "execution_count": null,
   "metadata": {},
   "outputs": [],
   "source": [
    "# Run without changes\n",
    "# Using Single Linkage\n",
    "singleLinkage = linkage(scaledX, method='single', metric='euclidean')\n",
    "\n",
    "fig, ax = plt.subplots(figsize=(12, 9))\n",
    "\n",
    "ax = dendrogram(singleLinkage, labels=mtcars.index,\n",
    "                leaf_rotation=90)\n",
    "plt.title('Hierarchical Clustering Using Single Linkage')\n",
    "plt.show()"
   ]
  },
  {
   "cell_type": "code",
   "execution_count": null,
   "metadata": {},
   "outputs": [],
   "source": [
    "# Run without changes\n",
    "# Using Average Linkage Method\n",
    "\n",
    "avgLinkage = linkage(scaledX, method='average', metric='euclidean')\n",
    "\n",
    "fig, ax = plt.subplots(figsize=(12, 9))\n",
    "\n",
    "ax = dendrogram(avgLinkage, labels=mtcars.index,\n",
    "                leaf_rotation=90)\n",
    "plt.title('Hierarchical Clustering Using Average Linkage')\n",
    "plt.show()"
   ]
  },
  {
   "cell_type": "markdown",
   "metadata": {},
   "source": [
    "## CONCLUSION"
   ]
  }
 ],
 "metadata": {
  "kernelspec": {
   "display_name": "Python 3 (ipykernel)",
   "language": "python",
   "name": "python3"
  },
  "language_info": {
   "codemirror_mode": {
    "name": "ipython",
    "version": 3
   },
   "file_extension": ".py",
   "mimetype": "text/x-python",
   "name": "python",
   "nbconvert_exporter": "python",
   "pygments_lexer": "ipython3",
   "version": "3.10.11"
  }
 },
 "nbformat": 4,
 "nbformat_minor": 2
}
